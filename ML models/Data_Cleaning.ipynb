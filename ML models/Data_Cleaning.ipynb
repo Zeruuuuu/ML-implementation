{
 "cells": [
  {
   "cell_type": "markdown",
   "id": "ca2d7a25",
   "metadata": {},
   "source": [
    "### Group: Zeru Zhou's Group\n",
    "### Name: Zeru Zhou\n",
    "### Email: zeruzhou9@gmail.com\n",
    "### Country: United States\n",
    "### University: University of Southern California\n",
    "### Specialization: Data Science"
   ]
  },
  {
   "cell_type": "markdown",
   "id": "d9b245b7",
   "metadata": {},
   "source": [
    "### Problem Description \n",
    "### In this project, I need to build binery classification machine learning models to predict if the bank clients will renew the term deposit or not in order to make corresponding strategies to maintain clients.\n"
   ]
  },
  {
   "cell_type": "markdown",
   "id": "2ab1bf8e",
   "metadata": {},
   "source": [
    "### Dataset Information\n",
    "### The dataset contains 3 parts: Client information, compaign information and social/economical context.\n",
    "### There are total 41188 instances and 20 columns. \n",
    "### The target response is whether the bank client will renew the term deposit."
   ]
  },
  {
   "cell_type": "markdown",
   "id": "b65c633c",
   "metadata": {},
   "source": [
    "### Library Importing"
   ]
  },
  {
   "cell_type": "code",
   "execution_count": 1,
   "id": "81464a10",
   "metadata": {},
   "outputs": [],
   "source": [
    "import pandas as pd\n",
    "import numpy as np\n",
    "from sklearn.experimental import enable_iterative_imputer\n",
    "from sklearn.impute import IterativeImputer\n",
    "from sklearn.impute import SimpleImputer\n",
    "from sklearn.linear_model import LogisticRegression\n",
    "from sklearn.ensemble import RandomForestClassifier\n",
    "from xgboost import XGBClassifier\n",
    "from sklearn.svm import SVC\n",
    "from sklearn.svm import LinearSVC\n",
    "from sklearn.naive_bayes import GaussianNB, MultinomialNB\n",
    "from sklearn.linear_model import RidgeClassifierCV\n",
    "from sklearn.neighbors import KNeighborsClassifier\n",
    "from sklearn.neural_network import MLPClassifier\n",
    "from imblearn.pipeline import Pipeline\n",
    "#from sklearn.pipeline import Pipeline\n",
    "from imblearn.over_sampling import SMOTE\n",
    "from sklearn.metrics import accuracy_score, f1_score, confusion_matrix, precision_score, recall_score, RocCurveDisplay\n",
    "from sklearn.model_selection import train_test_split\n",
    "import warnings\n",
    "from sklearn.exceptions import ConvergenceWarning\n",
    "warnings.filterwarnings(\"ignore\", category=ConvergenceWarning)\n",
    "from sklearn.model_selection import GridSearchCV\n",
    "from sklearn.preprocessing import MinMaxScaler\n",
    "from sklearn.feature_selection import RFECV"
   ]
  },
  {
   "cell_type": "markdown",
   "id": "d15bab17",
   "metadata": {},
   "source": [
    "## Data uploading"
   ]
  },
  {
   "cell_type": "code",
   "execution_count": 2,
   "id": "f7f72c23",
   "metadata": {},
   "outputs": [],
   "source": [
    "my_df_1 = pd.read_csv('../data/bank/bank-full.csv', sep=';')\n",
    "my_df_2 = pd.read_csv('../data/bank-additional/bank-additional-full.csv', sep=';')"
   ]
  },
  {
   "cell_type": "code",
   "execution_count": 3,
   "id": "dc8d0eb3",
   "metadata": {},
   "outputs": [
    {
     "data": {
      "text/plain": [
       "(41188, 21)"
      ]
     },
     "execution_count": 3,
     "metadata": {},
     "output_type": "execute_result"
    }
   ],
   "source": [
    "my_df_2.shape"
   ]
  },
  {
   "cell_type": "code",
   "execution_count": 4,
   "id": "69407612",
   "metadata": {},
   "outputs": [],
   "source": [
    "my_df = my_df_2"
   ]
  },
  {
   "cell_type": "code",
   "execution_count": 5,
   "id": "93329c3e",
   "metadata": {},
   "outputs": [
    {
     "data": {
      "text/plain": [
       "no     36548\n",
       "yes     4640\n",
       "Name: y, dtype: int64"
      ]
     },
     "execution_count": 5,
     "metadata": {},
     "output_type": "execute_result"
    }
   ],
   "source": [
    "my_df['y'].value_counts()"
   ]
  },
  {
   "cell_type": "markdown",
   "id": "85e592b5",
   "metadata": {},
   "source": [
    "### As we can see, this is an imbalanced dataset and it has NA values. We need to clean the dataset before moving to any analysis and model building."
   ]
  },
  {
   "cell_type": "markdown",
   "id": "10ca1f74",
   "metadata": {},
   "source": [
    "## Data Cleaning and imputation"
   ]
  },
  {
   "cell_type": "markdown",
   "id": "08ee1742",
   "metadata": {},
   "source": [
    "### Drop duplicated rows"
   ]
  },
  {
   "cell_type": "code",
   "execution_count": 7,
   "id": "5bf36d03",
   "metadata": {},
   "outputs": [
    {
     "data": {
      "text/plain": [
       "False    41176\n",
       "True        12\n",
       "dtype: int64"
      ]
     },
     "execution_count": 7,
     "metadata": {},
     "output_type": "execute_result"
    }
   ],
   "source": [
    "my_df.duplicated().value_counts()"
   ]
  },
  {
   "cell_type": "code",
   "execution_count": 8,
   "id": "6863fd2c",
   "metadata": {},
   "outputs": [
    {
     "data": {
      "text/plain": [
       "(41176, 21)"
      ]
     },
     "execution_count": 8,
     "metadata": {},
     "output_type": "execute_result"
    }
   ],
   "source": [
    "my_df = my_df.drop_duplicates()\n",
    "my_df.shape"
   ]
  },
  {
   "cell_type": "markdown",
   "id": "ba04f257",
   "metadata": {},
   "source": [
    "### Impute missing values"
   ]
  },
  {
   "cell_type": "code",
   "execution_count": 12,
   "id": "12498cef",
   "metadata": {},
   "outputs": [
    {
     "data": {
      "text/plain": [
       "age               False\n",
       "job               False\n",
       "marital           False\n",
       "education         False\n",
       "default           False\n",
       "housing           False\n",
       "loan              False\n",
       "contact           False\n",
       "month             False\n",
       "day_of_week       False\n",
       "duration          False\n",
       "campaign          False\n",
       "pdays             False\n",
       "previous          False\n",
       "poutcome          False\n",
       "emp.var.rate      False\n",
       "cons.price.idx    False\n",
       "cons.conf.idx     False\n",
       "euribor3m         False\n",
       "nr.employed       False\n",
       "y                 False\n",
       "dtype: bool"
      ]
     },
     "execution_count": 12,
     "metadata": {},
     "output_type": "execute_result"
    }
   ],
   "source": [
    "my_df.isna().any()"
   ]
  },
  {
   "cell_type": "code",
   "execution_count": 13,
   "id": "2fd4f035",
   "metadata": {},
   "outputs": [
    {
     "data": {
      "text/plain": [
       "age               False\n",
       "job               False\n",
       "marital           False\n",
       "education         False\n",
       "default           False\n",
       "housing           False\n",
       "loan              False\n",
       "contact           False\n",
       "month             False\n",
       "day_of_week       False\n",
       "duration          False\n",
       "campaign          False\n",
       "pdays             False\n",
       "previous          False\n",
       "poutcome          False\n",
       "emp.var.rate      False\n",
       "cons.price.idx    False\n",
       "cons.conf.idx     False\n",
       "euribor3m         False\n",
       "nr.employed       False\n",
       "y                 False\n",
       "dtype: bool"
      ]
     },
     "execution_count": 13,
     "metadata": {},
     "output_type": "execute_result"
    }
   ],
   "source": [
    "my_df.isnull().any()"
   ]
  },
  {
   "cell_type": "markdown",
   "id": "a192d4f4",
   "metadata": {},
   "source": [
    "### We can see that there are no NA values if we use the new version of data. I also submitted a version that combine the new data with the old version, then missing values are generated and imputed."
   ]
  },
  {
   "cell_type": "markdown",
   "id": "a4613f1f",
   "metadata": {},
   "source": [
    "### Now let's concat tables"
   ]
  },
  {
   "cell_type": "code",
   "execution_count": 14,
   "id": "ef39afc2",
   "metadata": {},
   "outputs": [],
   "source": [
    "my_df = pd.concat([my_df_1,my_df_2])"
   ]
  },
  {
   "cell_type": "code",
   "execution_count": 15,
   "id": "f4e51eb3",
   "metadata": {},
   "outputs": [
    {
     "data": {
      "text/plain": [
       "age               False\n",
       "job               False\n",
       "marital           False\n",
       "education         False\n",
       "default           False\n",
       "balance            True\n",
       "housing           False\n",
       "loan              False\n",
       "contact           False\n",
       "day                True\n",
       "month             False\n",
       "duration          False\n",
       "campaign          False\n",
       "pdays             False\n",
       "previous          False\n",
       "poutcome          False\n",
       "y                 False\n",
       "day_of_week        True\n",
       "emp.var.rate       True\n",
       "cons.price.idx     True\n",
       "cons.conf.idx      True\n",
       "euribor3m          True\n",
       "nr.employed        True\n",
       "dtype: bool"
      ]
     },
     "execution_count": 15,
     "metadata": {},
     "output_type": "execute_result"
    }
   ],
   "source": [
    "my_df.isnull().any()"
   ]
  },
  {
   "cell_type": "code",
   "execution_count": 16,
   "id": "593068a5",
   "metadata": {},
   "outputs": [
    {
     "data": {
      "text/plain": [
       "['age',\n",
       " 'job',\n",
       " 'marital',\n",
       " 'education',\n",
       " 'default',\n",
       " 'housing',\n",
       " 'loan',\n",
       " 'contact',\n",
       " 'month',\n",
       " 'duration',\n",
       " 'campaign',\n",
       " 'pdays',\n",
       " 'previous',\n",
       " 'poutcome',\n",
       " 'y']"
      ]
     },
     "execution_count": 16,
     "metadata": {},
     "output_type": "execute_result"
    }
   ],
   "source": [
    "sub = []\n",
    "for i in my_df.isnull().any().keys():\n",
    "    if my_df.isnull().any()[i] == False:\n",
    "        sub.append(i)\n",
    "sub"
   ]
  },
  {
   "cell_type": "markdown",
   "id": "49678c82",
   "metadata": {},
   "source": [
    "### Drop Duplicates"
   ]
  },
  {
   "cell_type": "code",
   "execution_count": 17,
   "id": "5827ac81",
   "metadata": {},
   "outputs": [
    {
     "data": {
      "text/plain": [
       "False    86327\n",
       "True        72\n",
       "dtype: int64"
      ]
     },
     "execution_count": 17,
     "metadata": {},
     "output_type": "execute_result"
    }
   ],
   "source": [
    "my_df.duplicated(subset= sub).value_counts()"
   ]
  },
  {
   "cell_type": "code",
   "execution_count": 18,
   "id": "f7405c54",
   "metadata": {},
   "outputs": [
    {
     "data": {
      "text/plain": [
       "(86387, 23)"
      ]
     },
     "execution_count": 18,
     "metadata": {},
     "output_type": "execute_result"
    }
   ],
   "source": [
    "my_df = my_df.drop_duplicates()\n",
    "my_df.shape"
   ]
  },
  {
   "cell_type": "markdown",
   "id": "09a31af7",
   "metadata": {},
   "source": [
    "### Impute missing values"
   ]
  },
  {
   "cell_type": "markdown",
   "id": "ac789200",
   "metadata": {},
   "source": [
    "### First, find categorical variables and one-hot encode them"
   ]
  },
  {
   "cell_type": "code",
   "execution_count": 19,
   "id": "08a1574c",
   "metadata": {},
   "outputs": [
    {
     "data": {
      "text/plain": [
       "age                 int64\n",
       "job                object\n",
       "marital            object\n",
       "education          object\n",
       "default            object\n",
       "balance           float64\n",
       "housing            object\n",
       "loan               object\n",
       "contact            object\n",
       "day               float64\n",
       "month              object\n",
       "duration            int64\n",
       "campaign            int64\n",
       "pdays               int64\n",
       "previous            int64\n",
       "poutcome           object\n",
       "y                  object\n",
       "day_of_week        object\n",
       "emp.var.rate      float64\n",
       "cons.price.idx    float64\n",
       "cons.conf.idx     float64\n",
       "euribor3m         float64\n",
       "nr.employed       float64\n",
       "dtype: object"
      ]
     },
     "execution_count": 19,
     "metadata": {},
     "output_type": "execute_result"
    }
   ],
   "source": [
    "my_df.dtypes"
   ]
  },
  {
   "cell_type": "code",
   "execution_count": 28,
   "id": "e7623eb2",
   "metadata": {},
   "outputs": [
    {
     "data": {
      "text/plain": [
       "['job',\n",
       " 'marital',\n",
       " 'education',\n",
       " 'default',\n",
       " 'housing',\n",
       " 'loan',\n",
       " 'contact',\n",
       " 'month',\n",
       " 'poutcome',\n",
       " 'day_of_week']"
      ]
     },
     "execution_count": 28,
     "metadata": {},
     "output_type": "execute_result"
    }
   ],
   "source": [
    "my_list = []\n",
    "for i in my_df.dtypes.keys():\n",
    "    if my_df.dtypes[i] == 'object':\n",
    "        my_list.append(i)\n",
    "my_list.remove('y')\n",
    "my_list"
   ]
  },
  {
   "cell_type": "code",
   "execution_count": 29,
   "id": "fa4246ba",
   "metadata": {},
   "outputs": [],
   "source": [
    "df = pd.get_dummies(my_df, columns=my_list)"
   ]
  },
  {
   "cell_type": "code",
   "execution_count": 30,
   "id": "3f7e1dab",
   "metadata": {},
   "outputs": [
    {
     "data": {
      "text/html": [
       "<div>\n",
       "<style scoped>\n",
       "    .dataframe tbody tr th:only-of-type {\n",
       "        vertical-align: middle;\n",
       "    }\n",
       "\n",
       "    .dataframe tbody tr th {\n",
       "        vertical-align: top;\n",
       "    }\n",
       "\n",
       "    .dataframe thead th {\n",
       "        text-align: right;\n",
       "    }\n",
       "</style>\n",
       "<table border=\"1\" class=\"dataframe\">\n",
       "  <thead>\n",
       "    <tr style=\"text-align: right;\">\n",
       "      <th></th>\n",
       "      <th>age</th>\n",
       "      <th>balance</th>\n",
       "      <th>day</th>\n",
       "      <th>duration</th>\n",
       "      <th>campaign</th>\n",
       "      <th>pdays</th>\n",
       "      <th>previous</th>\n",
       "      <th>y</th>\n",
       "      <th>emp.var.rate</th>\n",
       "      <th>cons.price.idx</th>\n",
       "      <th>...</th>\n",
       "      <th>poutcome_failure</th>\n",
       "      <th>poutcome_nonexistent</th>\n",
       "      <th>poutcome_other</th>\n",
       "      <th>poutcome_success</th>\n",
       "      <th>poutcome_unknown</th>\n",
       "      <th>day_of_week_fri</th>\n",
       "      <th>day_of_week_mon</th>\n",
       "      <th>day_of_week_thu</th>\n",
       "      <th>day_of_week_tue</th>\n",
       "      <th>day_of_week_wed</th>\n",
       "    </tr>\n",
       "  </thead>\n",
       "  <tbody>\n",
       "    <tr>\n",
       "      <th>0</th>\n",
       "      <td>58</td>\n",
       "      <td>2143.0</td>\n",
       "      <td>5.0</td>\n",
       "      <td>261</td>\n",
       "      <td>1</td>\n",
       "      <td>-1</td>\n",
       "      <td>0</td>\n",
       "      <td>no</td>\n",
       "      <td>NaN</td>\n",
       "      <td>NaN</td>\n",
       "      <td>...</td>\n",
       "      <td>0</td>\n",
       "      <td>0</td>\n",
       "      <td>0</td>\n",
       "      <td>0</td>\n",
       "      <td>1</td>\n",
       "      <td>0</td>\n",
       "      <td>0</td>\n",
       "      <td>0</td>\n",
       "      <td>0</td>\n",
       "      <td>0</td>\n",
       "    </tr>\n",
       "    <tr>\n",
       "      <th>1</th>\n",
       "      <td>44</td>\n",
       "      <td>29.0</td>\n",
       "      <td>5.0</td>\n",
       "      <td>151</td>\n",
       "      <td>1</td>\n",
       "      <td>-1</td>\n",
       "      <td>0</td>\n",
       "      <td>no</td>\n",
       "      <td>NaN</td>\n",
       "      <td>NaN</td>\n",
       "      <td>...</td>\n",
       "      <td>0</td>\n",
       "      <td>0</td>\n",
       "      <td>0</td>\n",
       "      <td>0</td>\n",
       "      <td>1</td>\n",
       "      <td>0</td>\n",
       "      <td>0</td>\n",
       "      <td>0</td>\n",
       "      <td>0</td>\n",
       "      <td>0</td>\n",
       "    </tr>\n",
       "    <tr>\n",
       "      <th>2</th>\n",
       "      <td>33</td>\n",
       "      <td>2.0</td>\n",
       "      <td>5.0</td>\n",
       "      <td>76</td>\n",
       "      <td>1</td>\n",
       "      <td>-1</td>\n",
       "      <td>0</td>\n",
       "      <td>no</td>\n",
       "      <td>NaN</td>\n",
       "      <td>NaN</td>\n",
       "      <td>...</td>\n",
       "      <td>0</td>\n",
       "      <td>0</td>\n",
       "      <td>0</td>\n",
       "      <td>0</td>\n",
       "      <td>1</td>\n",
       "      <td>0</td>\n",
       "      <td>0</td>\n",
       "      <td>0</td>\n",
       "      <td>0</td>\n",
       "      <td>0</td>\n",
       "    </tr>\n",
       "    <tr>\n",
       "      <th>3</th>\n",
       "      <td>47</td>\n",
       "      <td>1506.0</td>\n",
       "      <td>5.0</td>\n",
       "      <td>92</td>\n",
       "      <td>1</td>\n",
       "      <td>-1</td>\n",
       "      <td>0</td>\n",
       "      <td>no</td>\n",
       "      <td>NaN</td>\n",
       "      <td>NaN</td>\n",
       "      <td>...</td>\n",
       "      <td>0</td>\n",
       "      <td>0</td>\n",
       "      <td>0</td>\n",
       "      <td>0</td>\n",
       "      <td>1</td>\n",
       "      <td>0</td>\n",
       "      <td>0</td>\n",
       "      <td>0</td>\n",
       "      <td>0</td>\n",
       "      <td>0</td>\n",
       "    </tr>\n",
       "    <tr>\n",
       "      <th>4</th>\n",
       "      <td>33</td>\n",
       "      <td>1.0</td>\n",
       "      <td>5.0</td>\n",
       "      <td>198</td>\n",
       "      <td>1</td>\n",
       "      <td>-1</td>\n",
       "      <td>0</td>\n",
       "      <td>no</td>\n",
       "      <td>NaN</td>\n",
       "      <td>NaN</td>\n",
       "      <td>...</td>\n",
       "      <td>0</td>\n",
       "      <td>0</td>\n",
       "      <td>0</td>\n",
       "      <td>0</td>\n",
       "      <td>1</td>\n",
       "      <td>0</td>\n",
       "      <td>0</td>\n",
       "      <td>0</td>\n",
       "      <td>0</td>\n",
       "      <td>0</td>\n",
       "    </tr>\n",
       "  </tbody>\n",
       "</table>\n",
       "<p>5 rows × 74 columns</p>\n",
       "</div>"
      ],
      "text/plain": [
       "   age  balance  day  duration  campaign  pdays  previous   y  emp.var.rate  \\\n",
       "0   58   2143.0  5.0       261         1     -1         0  no           NaN   \n",
       "1   44     29.0  5.0       151         1     -1         0  no           NaN   \n",
       "2   33      2.0  5.0        76         1     -1         0  no           NaN   \n",
       "3   47   1506.0  5.0        92         1     -1         0  no           NaN   \n",
       "4   33      1.0  5.0       198         1     -1         0  no           NaN   \n",
       "\n",
       "   cons.price.idx  ...  poutcome_failure  poutcome_nonexistent  \\\n",
       "0             NaN  ...                 0                     0   \n",
       "1             NaN  ...                 0                     0   \n",
       "2             NaN  ...                 0                     0   \n",
       "3             NaN  ...                 0                     0   \n",
       "4             NaN  ...                 0                     0   \n",
       "\n",
       "   poutcome_other  poutcome_success  poutcome_unknown  day_of_week_fri  \\\n",
       "0               0                 0                 1                0   \n",
       "1               0                 0                 1                0   \n",
       "2               0                 0                 1                0   \n",
       "3               0                 0                 1                0   \n",
       "4               0                 0                 1                0   \n",
       "\n",
       "   day_of_week_mon  day_of_week_thu  day_of_week_tue  day_of_week_wed  \n",
       "0                0                0                0                0  \n",
       "1                0                0                0                0  \n",
       "2                0                0                0                0  \n",
       "3                0                0                0                0  \n",
       "4                0                0                0                0  \n",
       "\n",
       "[5 rows x 74 columns]"
      ]
     },
     "execution_count": 30,
     "metadata": {},
     "output_type": "execute_result"
    }
   ],
   "source": [
    "df.head()"
   ]
  },
  {
   "cell_type": "code",
   "execution_count": 31,
   "id": "438a53cf",
   "metadata": {},
   "outputs": [],
   "source": [
    "x,y = df.drop(columns=['y']), df['y']"
   ]
  },
  {
   "cell_type": "markdown",
   "id": "05e2127c",
   "metadata": {},
   "source": [
    "### First, we can try simple imputer like filling the value with mean"
   ]
  },
  {
   "cell_type": "code",
   "execution_count": 32,
   "id": "9d360ba7",
   "metadata": {},
   "outputs": [],
   "source": [
    "x = x.drop(columns=['duration'])"
   ]
  },
  {
   "cell_type": "code",
   "execution_count": 33,
   "id": "04d3c2c2",
   "metadata": {},
   "outputs": [
    {
     "data": {
      "text/html": [
       "<div>\n",
       "<style scoped>\n",
       "    .dataframe tbody tr th:only-of-type {\n",
       "        vertical-align: middle;\n",
       "    }\n",
       "\n",
       "    .dataframe tbody tr th {\n",
       "        vertical-align: top;\n",
       "    }\n",
       "\n",
       "    .dataframe thead th {\n",
       "        text-align: right;\n",
       "    }\n",
       "</style>\n",
       "<table border=\"1\" class=\"dataframe\">\n",
       "  <thead>\n",
       "    <tr style=\"text-align: right;\">\n",
       "      <th></th>\n",
       "      <th>0</th>\n",
       "      <th>1</th>\n",
       "      <th>2</th>\n",
       "      <th>3</th>\n",
       "      <th>4</th>\n",
       "      <th>5</th>\n",
       "      <th>6</th>\n",
       "      <th>7</th>\n",
       "      <th>8</th>\n",
       "      <th>9</th>\n",
       "      <th>...</th>\n",
       "      <th>62</th>\n",
       "      <th>63</th>\n",
       "      <th>64</th>\n",
       "      <th>65</th>\n",
       "      <th>66</th>\n",
       "      <th>67</th>\n",
       "      <th>68</th>\n",
       "      <th>69</th>\n",
       "      <th>70</th>\n",
       "      <th>71</th>\n",
       "    </tr>\n",
       "  </thead>\n",
       "  <tbody>\n",
       "    <tr>\n",
       "      <th>0</th>\n",
       "      <td>58.0</td>\n",
       "      <td>2143.0</td>\n",
       "      <td>5.0</td>\n",
       "      <td>1.0</td>\n",
       "      <td>-1.0</td>\n",
       "      <td>0.0</td>\n",
       "      <td>0.081922</td>\n",
       "      <td>93.57572</td>\n",
       "      <td>-40.502863</td>\n",
       "      <td>3.621293</td>\n",
       "      <td>...</td>\n",
       "      <td>0.0</td>\n",
       "      <td>0.0</td>\n",
       "      <td>0.0</td>\n",
       "      <td>0.0</td>\n",
       "      <td>1.0</td>\n",
       "      <td>0.0</td>\n",
       "      <td>0.0</td>\n",
       "      <td>0.0</td>\n",
       "      <td>0.0</td>\n",
       "      <td>0.0</td>\n",
       "    </tr>\n",
       "    <tr>\n",
       "      <th>1</th>\n",
       "      <td>44.0</td>\n",
       "      <td>29.0</td>\n",
       "      <td>5.0</td>\n",
       "      <td>1.0</td>\n",
       "      <td>-1.0</td>\n",
       "      <td>0.0</td>\n",
       "      <td>0.081922</td>\n",
       "      <td>93.57572</td>\n",
       "      <td>-40.502863</td>\n",
       "      <td>3.621293</td>\n",
       "      <td>...</td>\n",
       "      <td>0.0</td>\n",
       "      <td>0.0</td>\n",
       "      <td>0.0</td>\n",
       "      <td>0.0</td>\n",
       "      <td>1.0</td>\n",
       "      <td>0.0</td>\n",
       "      <td>0.0</td>\n",
       "      <td>0.0</td>\n",
       "      <td>0.0</td>\n",
       "      <td>0.0</td>\n",
       "    </tr>\n",
       "    <tr>\n",
       "      <th>2</th>\n",
       "      <td>33.0</td>\n",
       "      <td>2.0</td>\n",
       "      <td>5.0</td>\n",
       "      <td>1.0</td>\n",
       "      <td>-1.0</td>\n",
       "      <td>0.0</td>\n",
       "      <td>0.081922</td>\n",
       "      <td>93.57572</td>\n",
       "      <td>-40.502863</td>\n",
       "      <td>3.621293</td>\n",
       "      <td>...</td>\n",
       "      <td>0.0</td>\n",
       "      <td>0.0</td>\n",
       "      <td>0.0</td>\n",
       "      <td>0.0</td>\n",
       "      <td>1.0</td>\n",
       "      <td>0.0</td>\n",
       "      <td>0.0</td>\n",
       "      <td>0.0</td>\n",
       "      <td>0.0</td>\n",
       "      <td>0.0</td>\n",
       "    </tr>\n",
       "    <tr>\n",
       "      <th>3</th>\n",
       "      <td>47.0</td>\n",
       "      <td>1506.0</td>\n",
       "      <td>5.0</td>\n",
       "      <td>1.0</td>\n",
       "      <td>-1.0</td>\n",
       "      <td>0.0</td>\n",
       "      <td>0.081922</td>\n",
       "      <td>93.57572</td>\n",
       "      <td>-40.502863</td>\n",
       "      <td>3.621293</td>\n",
       "      <td>...</td>\n",
       "      <td>0.0</td>\n",
       "      <td>0.0</td>\n",
       "      <td>0.0</td>\n",
       "      <td>0.0</td>\n",
       "      <td>1.0</td>\n",
       "      <td>0.0</td>\n",
       "      <td>0.0</td>\n",
       "      <td>0.0</td>\n",
       "      <td>0.0</td>\n",
       "      <td>0.0</td>\n",
       "    </tr>\n",
       "    <tr>\n",
       "      <th>4</th>\n",
       "      <td>33.0</td>\n",
       "      <td>1.0</td>\n",
       "      <td>5.0</td>\n",
       "      <td>1.0</td>\n",
       "      <td>-1.0</td>\n",
       "      <td>0.0</td>\n",
       "      <td>0.081922</td>\n",
       "      <td>93.57572</td>\n",
       "      <td>-40.502863</td>\n",
       "      <td>3.621293</td>\n",
       "      <td>...</td>\n",
       "      <td>0.0</td>\n",
       "      <td>0.0</td>\n",
       "      <td>0.0</td>\n",
       "      <td>0.0</td>\n",
       "      <td>1.0</td>\n",
       "      <td>0.0</td>\n",
       "      <td>0.0</td>\n",
       "      <td>0.0</td>\n",
       "      <td>0.0</td>\n",
       "      <td>0.0</td>\n",
       "    </tr>\n",
       "  </tbody>\n",
       "</table>\n",
       "<p>5 rows × 72 columns</p>\n",
       "</div>"
      ],
      "text/plain": [
       "     0       1    2    3    4    5         6         7          8         9   \\\n",
       "0  58.0  2143.0  5.0  1.0 -1.0  0.0  0.081922  93.57572 -40.502863  3.621293   \n",
       "1  44.0    29.0  5.0  1.0 -1.0  0.0  0.081922  93.57572 -40.502863  3.621293   \n",
       "2  33.0     2.0  5.0  1.0 -1.0  0.0  0.081922  93.57572 -40.502863  3.621293   \n",
       "3  47.0  1506.0  5.0  1.0 -1.0  0.0  0.081922  93.57572 -40.502863  3.621293   \n",
       "4  33.0     1.0  5.0  1.0 -1.0  0.0  0.081922  93.57572 -40.502863  3.621293   \n",
       "\n",
       "   ...   62   63   64   65   66   67   68   69   70   71  \n",
       "0  ...  0.0  0.0  0.0  0.0  1.0  0.0  0.0  0.0  0.0  0.0  \n",
       "1  ...  0.0  0.0  0.0  0.0  1.0  0.0  0.0  0.0  0.0  0.0  \n",
       "2  ...  0.0  0.0  0.0  0.0  1.0  0.0  0.0  0.0  0.0  0.0  \n",
       "3  ...  0.0  0.0  0.0  0.0  1.0  0.0  0.0  0.0  0.0  0.0  \n",
       "4  ...  0.0  0.0  0.0  0.0  1.0  0.0  0.0  0.0  0.0  0.0  \n",
       "\n",
       "[5 rows x 72 columns]"
      ]
     },
     "execution_count": 33,
     "metadata": {},
     "output_type": "execute_result"
    }
   ],
   "source": [
    "x_simple = SimpleImputer(strategy='mean').fit_transform(x)\n",
    "pd.DataFrame(x_simple).head()"
   ]
  },
  {
   "cell_type": "markdown",
   "id": "5eba7fac",
   "metadata": {},
   "source": [
    "### Since this is high-dimensional dataset with almost 100k instances, using simple imputer may lead to huge error. So we try iterative imputer using round robin algorithm"
   ]
  },
  {
   "cell_type": "code",
   "execution_count": 34,
   "id": "c29aea3e",
   "metadata": {},
   "outputs": [],
   "source": [
    "x_iter = IterativeImputer(n_nearest_features=50).fit_transform(x)\n",
    "x_iter_df = pd.DataFrame(x_iter)"
   ]
  },
  {
   "cell_type": "code",
   "execution_count": 35,
   "id": "4b491610",
   "metadata": {},
   "outputs": [
    {
     "data": {
      "text/html": [
       "<div>\n",
       "<style scoped>\n",
       "    .dataframe tbody tr th:only-of-type {\n",
       "        vertical-align: middle;\n",
       "    }\n",
       "\n",
       "    .dataframe tbody tr th {\n",
       "        vertical-align: top;\n",
       "    }\n",
       "\n",
       "    .dataframe thead th {\n",
       "        text-align: right;\n",
       "    }\n",
       "</style>\n",
       "<table border=\"1\" class=\"dataframe\">\n",
       "  <thead>\n",
       "    <tr style=\"text-align: right;\">\n",
       "      <th></th>\n",
       "      <th>0</th>\n",
       "      <th>1</th>\n",
       "      <th>2</th>\n",
       "      <th>3</th>\n",
       "      <th>4</th>\n",
       "      <th>5</th>\n",
       "      <th>6</th>\n",
       "      <th>7</th>\n",
       "      <th>8</th>\n",
       "      <th>9</th>\n",
       "      <th>...</th>\n",
       "      <th>62</th>\n",
       "      <th>63</th>\n",
       "      <th>64</th>\n",
       "      <th>65</th>\n",
       "      <th>66</th>\n",
       "      <th>67</th>\n",
       "      <th>68</th>\n",
       "      <th>69</th>\n",
       "      <th>70</th>\n",
       "      <th>71</th>\n",
       "    </tr>\n",
       "  </thead>\n",
       "  <tbody>\n",
       "    <tr>\n",
       "      <th>0</th>\n",
       "      <td>58.0</td>\n",
       "      <td>2143.0</td>\n",
       "      <td>5.0</td>\n",
       "      <td>1.0</td>\n",
       "      <td>-1.0</td>\n",
       "      <td>0.0</td>\n",
       "      <td>-0.035837</td>\n",
       "      <td>93.442005</td>\n",
       "      <td>-37.888759</td>\n",
       "      <td>3.754859</td>\n",
       "      <td>...</td>\n",
       "      <td>0.0</td>\n",
       "      <td>0.0</td>\n",
       "      <td>0.0</td>\n",
       "      <td>0.0</td>\n",
       "      <td>1.0</td>\n",
       "      <td>0.0</td>\n",
       "      <td>0.0</td>\n",
       "      <td>0.0</td>\n",
       "      <td>0.0</td>\n",
       "      <td>0.0</td>\n",
       "    </tr>\n",
       "    <tr>\n",
       "      <th>1</th>\n",
       "      <td>44.0</td>\n",
       "      <td>29.0</td>\n",
       "      <td>5.0</td>\n",
       "      <td>1.0</td>\n",
       "      <td>-1.0</td>\n",
       "      <td>0.0</td>\n",
       "      <td>-0.018642</td>\n",
       "      <td>93.458280</td>\n",
       "      <td>-38.280911</td>\n",
       "      <td>3.726448</td>\n",
       "      <td>...</td>\n",
       "      <td>0.0</td>\n",
       "      <td>0.0</td>\n",
       "      <td>0.0</td>\n",
       "      <td>0.0</td>\n",
       "      <td>1.0</td>\n",
       "      <td>0.0</td>\n",
       "      <td>0.0</td>\n",
       "      <td>0.0</td>\n",
       "      <td>0.0</td>\n",
       "      <td>0.0</td>\n",
       "    </tr>\n",
       "    <tr>\n",
       "      <th>2</th>\n",
       "      <td>33.0</td>\n",
       "      <td>2.0</td>\n",
       "      <td>5.0</td>\n",
       "      <td>1.0</td>\n",
       "      <td>-1.0</td>\n",
       "      <td>0.0</td>\n",
       "      <td>-0.068157</td>\n",
       "      <td>93.433353</td>\n",
       "      <td>-38.706980</td>\n",
       "      <td>3.674341</td>\n",
       "      <td>...</td>\n",
       "      <td>0.0</td>\n",
       "      <td>0.0</td>\n",
       "      <td>0.0</td>\n",
       "      <td>0.0</td>\n",
       "      <td>1.0</td>\n",
       "      <td>0.0</td>\n",
       "      <td>0.0</td>\n",
       "      <td>0.0</td>\n",
       "      <td>0.0</td>\n",
       "      <td>0.0</td>\n",
       "    </tr>\n",
       "    <tr>\n",
       "      <th>3</th>\n",
       "      <td>47.0</td>\n",
       "      <td>1506.0</td>\n",
       "      <td>5.0</td>\n",
       "      <td>1.0</td>\n",
       "      <td>-1.0</td>\n",
       "      <td>0.0</td>\n",
       "      <td>0.009976</td>\n",
       "      <td>93.514050</td>\n",
       "      <td>-38.110792</td>\n",
       "      <td>3.711050</td>\n",
       "      <td>...</td>\n",
       "      <td>0.0</td>\n",
       "      <td>0.0</td>\n",
       "      <td>0.0</td>\n",
       "      <td>0.0</td>\n",
       "      <td>1.0</td>\n",
       "      <td>0.0</td>\n",
       "      <td>0.0</td>\n",
       "      <td>0.0</td>\n",
       "      <td>0.0</td>\n",
       "      <td>0.0</td>\n",
       "    </tr>\n",
       "    <tr>\n",
       "      <th>4</th>\n",
       "      <td>33.0</td>\n",
       "      <td>1.0</td>\n",
       "      <td>5.0</td>\n",
       "      <td>1.0</td>\n",
       "      <td>-1.0</td>\n",
       "      <td>0.0</td>\n",
       "      <td>-0.017609</td>\n",
       "      <td>93.505272</td>\n",
       "      <td>-37.700385</td>\n",
       "      <td>3.742608</td>\n",
       "      <td>...</td>\n",
       "      <td>0.0</td>\n",
       "      <td>0.0</td>\n",
       "      <td>0.0</td>\n",
       "      <td>0.0</td>\n",
       "      <td>1.0</td>\n",
       "      <td>0.0</td>\n",
       "      <td>0.0</td>\n",
       "      <td>0.0</td>\n",
       "      <td>0.0</td>\n",
       "      <td>0.0</td>\n",
       "    </tr>\n",
       "  </tbody>\n",
       "</table>\n",
       "<p>5 rows × 72 columns</p>\n",
       "</div>"
      ],
      "text/plain": [
       "     0       1    2    3    4    5         6          7          8         9   \\\n",
       "0  58.0  2143.0  5.0  1.0 -1.0  0.0 -0.035837  93.442005 -37.888759  3.754859   \n",
       "1  44.0    29.0  5.0  1.0 -1.0  0.0 -0.018642  93.458280 -38.280911  3.726448   \n",
       "2  33.0     2.0  5.0  1.0 -1.0  0.0 -0.068157  93.433353 -38.706980  3.674341   \n",
       "3  47.0  1506.0  5.0  1.0 -1.0  0.0  0.009976  93.514050 -38.110792  3.711050   \n",
       "4  33.0     1.0  5.0  1.0 -1.0  0.0 -0.017609  93.505272 -37.700385  3.742608   \n",
       "\n",
       "   ...   62   63   64   65   66   67   68   69   70   71  \n",
       "0  ...  0.0  0.0  0.0  0.0  1.0  0.0  0.0  0.0  0.0  0.0  \n",
       "1  ...  0.0  0.0  0.0  0.0  1.0  0.0  0.0  0.0  0.0  0.0  \n",
       "2  ...  0.0  0.0  0.0  0.0  1.0  0.0  0.0  0.0  0.0  0.0  \n",
       "3  ...  0.0  0.0  0.0  0.0  1.0  0.0  0.0  0.0  0.0  0.0  \n",
       "4  ...  0.0  0.0  0.0  0.0  1.0  0.0  0.0  0.0  0.0  0.0  \n",
       "\n",
       "[5 rows x 72 columns]"
      ]
     },
     "execution_count": 35,
     "metadata": {},
     "output_type": "execute_result"
    }
   ],
   "source": [
    "x_iter_df.head()"
   ]
  },
  {
   "cell_type": "markdown",
   "id": "254cd8c7",
   "metadata": {},
   "source": [
    "### After filling all the NAs, the next step is to eliminate some outliers"
   ]
  },
  {
   "cell_type": "code",
   "execution_count": 36,
   "id": "8acdebb7",
   "metadata": {},
   "outputs": [
    {
     "data": {
      "text/html": [
       "<div>\n",
       "<style scoped>\n",
       "    .dataframe tbody tr th:only-of-type {\n",
       "        vertical-align: middle;\n",
       "    }\n",
       "\n",
       "    .dataframe tbody tr th {\n",
       "        vertical-align: top;\n",
       "    }\n",
       "\n",
       "    .dataframe thead th {\n",
       "        text-align: right;\n",
       "    }\n",
       "</style>\n",
       "<table border=\"1\" class=\"dataframe\">\n",
       "  <thead>\n",
       "    <tr style=\"text-align: right;\">\n",
       "      <th></th>\n",
       "      <th>0</th>\n",
       "      <th>1</th>\n",
       "      <th>2</th>\n",
       "      <th>3</th>\n",
       "      <th>4</th>\n",
       "      <th>5</th>\n",
       "      <th>6</th>\n",
       "      <th>7</th>\n",
       "      <th>8</th>\n",
       "      <th>9</th>\n",
       "      <th>...</th>\n",
       "      <th>62</th>\n",
       "      <th>63</th>\n",
       "      <th>64</th>\n",
       "      <th>65</th>\n",
       "      <th>66</th>\n",
       "      <th>67</th>\n",
       "      <th>68</th>\n",
       "      <th>69</th>\n",
       "      <th>70</th>\n",
       "      <th>71</th>\n",
       "    </tr>\n",
       "  </thead>\n",
       "  <tbody>\n",
       "    <tr>\n",
       "      <th>count</th>\n",
       "      <td>86387.000000</td>\n",
       "      <td>86387.000000</td>\n",
       "      <td>86387.000000</td>\n",
       "      <td>86387.000000</td>\n",
       "      <td>86387.000000</td>\n",
       "      <td>86387.000000</td>\n",
       "      <td>86387.000000</td>\n",
       "      <td>86387.000000</td>\n",
       "      <td>86387.000000</td>\n",
       "      <td>86387.000000</td>\n",
       "      <td>...</td>\n",
       "      <td>86387.000000</td>\n",
       "      <td>86387.000000</td>\n",
       "      <td>86387.000000</td>\n",
       "      <td>86387.000000</td>\n",
       "      <td>86387.000000</td>\n",
       "      <td>86387.000000</td>\n",
       "      <td>86387.000000</td>\n",
       "      <td>86387.000000</td>\n",
       "      <td>86387.000000</td>\n",
       "      <td>86387.000000</td>\n",
       "    </tr>\n",
       "    <tr>\n",
       "      <th>mean</th>\n",
       "      <td>40.501314</td>\n",
       "      <td>1056.742722</td>\n",
       "      <td>14.127262</td>\n",
       "      <td>2.670437</td>\n",
       "      <td>479.792504</td>\n",
       "      <td>0.386181</td>\n",
       "      <td>0.026930</td>\n",
       "      <td>93.545136</td>\n",
       "      <td>-39.493067</td>\n",
       "      <td>3.647854</td>\n",
       "      <td>...</td>\n",
       "      <td>0.105953</td>\n",
       "      <td>0.411532</td>\n",
       "      <td>0.021300</td>\n",
       "      <td>0.033385</td>\n",
       "      <td>0.427831</td>\n",
       "      <td>0.090592</td>\n",
       "      <td>0.098533</td>\n",
       "      <td>0.099760</td>\n",
       "      <td>0.093602</td>\n",
       "      <td>0.094158</td>\n",
       "    </tr>\n",
       "    <tr>\n",
       "      <th>std</th>\n",
       "      <td>10.534612</td>\n",
       "      <td>2272.444678</td>\n",
       "      <td>6.717591</td>\n",
       "      <td>2.947981</td>\n",
       "      <td>483.824356</td>\n",
       "      <td>1.713173</td>\n",
       "      <td>1.114288</td>\n",
       "      <td>0.461661</td>\n",
       "      <td>4.072957</td>\n",
       "      <td>1.234497</td>\n",
       "      <td>...</td>\n",
       "      <td>0.307780</td>\n",
       "      <td>0.492114</td>\n",
       "      <td>0.144382</td>\n",
       "      <td>0.179640</td>\n",
       "      <td>0.494767</td>\n",
       "      <td>0.287030</td>\n",
       "      <td>0.298036</td>\n",
       "      <td>0.299682</td>\n",
       "      <td>0.291276</td>\n",
       "      <td>0.292050</td>\n",
       "    </tr>\n",
       "    <tr>\n",
       "      <th>min</th>\n",
       "      <td>17.000000</td>\n",
       "      <td>-8019.000000</td>\n",
       "      <td>1.000000</td>\n",
       "      <td>1.000000</td>\n",
       "      <td>-1.000000</td>\n",
       "      <td>0.000000</td>\n",
       "      <td>-3.400000</td>\n",
       "      <td>92.201000</td>\n",
       "      <td>-50.800000</td>\n",
       "      <td>-17.133469</td>\n",
       "      <td>...</td>\n",
       "      <td>0.000000</td>\n",
       "      <td>0.000000</td>\n",
       "      <td>0.000000</td>\n",
       "      <td>0.000000</td>\n",
       "      <td>0.000000</td>\n",
       "      <td>0.000000</td>\n",
       "      <td>0.000000</td>\n",
       "      <td>0.000000</td>\n",
       "      <td>0.000000</td>\n",
       "      <td>0.000000</td>\n",
       "    </tr>\n",
       "    <tr>\n",
       "      <th>25%</th>\n",
       "      <td>32.000000</td>\n",
       "      <td>145.562937</td>\n",
       "      <td>10.353947</td>\n",
       "      <td>1.000000</td>\n",
       "      <td>-1.000000</td>\n",
       "      <td>0.000000</td>\n",
       "      <td>-0.274125</td>\n",
       "      <td>93.316129</td>\n",
       "      <td>-42.000000</td>\n",
       "      <td>3.225901</td>\n",
       "      <td>...</td>\n",
       "      <td>0.000000</td>\n",
       "      <td>0.000000</td>\n",
       "      <td>0.000000</td>\n",
       "      <td>0.000000</td>\n",
       "      <td>0.000000</td>\n",
       "      <td>0.000000</td>\n",
       "      <td>0.000000</td>\n",
       "      <td>0.000000</td>\n",
       "      <td>0.000000</td>\n",
       "      <td>0.000000</td>\n",
       "    </tr>\n",
       "    <tr>\n",
       "      <th>50%</th>\n",
       "      <td>39.000000</td>\n",
       "      <td>571.000000</td>\n",
       "      <td>13.573327</td>\n",
       "      <td>2.000000</td>\n",
       "      <td>246.000000</td>\n",
       "      <td>0.000000</td>\n",
       "      <td>-0.039346</td>\n",
       "      <td>93.466319</td>\n",
       "      <td>-40.035852</td>\n",
       "      <td>3.857398</td>\n",
       "      <td>...</td>\n",
       "      <td>0.000000</td>\n",
       "      <td>0.000000</td>\n",
       "      <td>0.000000</td>\n",
       "      <td>0.000000</td>\n",
       "      <td>0.000000</td>\n",
       "      <td>0.000000</td>\n",
       "      <td>0.000000</td>\n",
       "      <td>0.000000</td>\n",
       "      <td>0.000000</td>\n",
       "      <td>0.000000</td>\n",
       "    </tr>\n",
       "    <tr>\n",
       "      <th>75%</th>\n",
       "      <td>48.000000</td>\n",
       "      <td>1186.220266</td>\n",
       "      <td>17.038271</td>\n",
       "      <td>3.000000</td>\n",
       "      <td>999.000000</td>\n",
       "      <td>0.000000</td>\n",
       "      <td>1.100000</td>\n",
       "      <td>93.918000</td>\n",
       "      <td>-36.400000</td>\n",
       "      <td>4.857000</td>\n",
       "      <td>...</td>\n",
       "      <td>0.000000</td>\n",
       "      <td>1.000000</td>\n",
       "      <td>0.000000</td>\n",
       "      <td>0.000000</td>\n",
       "      <td>1.000000</td>\n",
       "      <td>0.000000</td>\n",
       "      <td>0.000000</td>\n",
       "      <td>0.000000</td>\n",
       "      <td>0.000000</td>\n",
       "      <td>0.000000</td>\n",
       "    </tr>\n",
       "    <tr>\n",
       "      <th>max</th>\n",
       "      <td>98.000000</td>\n",
       "      <td>102127.000000</td>\n",
       "      <td>36.159108</td>\n",
       "      <td>63.000000</td>\n",
       "      <td>999.000000</td>\n",
       "      <td>275.000000</td>\n",
       "      <td>11.260477</td>\n",
       "      <td>129.876347</td>\n",
       "      <td>-11.286659</td>\n",
       "      <td>5.045000</td>\n",
       "      <td>...</td>\n",
       "      <td>1.000000</td>\n",
       "      <td>1.000000</td>\n",
       "      <td>1.000000</td>\n",
       "      <td>1.000000</td>\n",
       "      <td>1.000000</td>\n",
       "      <td>1.000000</td>\n",
       "      <td>1.000000</td>\n",
       "      <td>1.000000</td>\n",
       "      <td>1.000000</td>\n",
       "      <td>1.000000</td>\n",
       "    </tr>\n",
       "  </tbody>\n",
       "</table>\n",
       "<p>8 rows × 72 columns</p>\n",
       "</div>"
      ],
      "text/plain": [
       "                 0              1             2             3             4   \\\n",
       "count  86387.000000   86387.000000  86387.000000  86387.000000  86387.000000   \n",
       "mean      40.501314    1056.742722     14.127262      2.670437    479.792504   \n",
       "std       10.534612    2272.444678      6.717591      2.947981    483.824356   \n",
       "min       17.000000   -8019.000000      1.000000      1.000000     -1.000000   \n",
       "25%       32.000000     145.562937     10.353947      1.000000     -1.000000   \n",
       "50%       39.000000     571.000000     13.573327      2.000000    246.000000   \n",
       "75%       48.000000    1186.220266     17.038271      3.000000    999.000000   \n",
       "max       98.000000  102127.000000     36.159108     63.000000    999.000000   \n",
       "\n",
       "                 5             6             7             8             9   \\\n",
       "count  86387.000000  86387.000000  86387.000000  86387.000000  86387.000000   \n",
       "mean       0.386181      0.026930     93.545136    -39.493067      3.647854   \n",
       "std        1.713173      1.114288      0.461661      4.072957      1.234497   \n",
       "min        0.000000     -3.400000     92.201000    -50.800000    -17.133469   \n",
       "25%        0.000000     -0.274125     93.316129    -42.000000      3.225901   \n",
       "50%        0.000000     -0.039346     93.466319    -40.035852      3.857398   \n",
       "75%        0.000000      1.100000     93.918000    -36.400000      4.857000   \n",
       "max      275.000000     11.260477    129.876347    -11.286659      5.045000   \n",
       "\n",
       "       ...            62            63            64            65  \\\n",
       "count  ...  86387.000000  86387.000000  86387.000000  86387.000000   \n",
       "mean   ...      0.105953      0.411532      0.021300      0.033385   \n",
       "std    ...      0.307780      0.492114      0.144382      0.179640   \n",
       "min    ...      0.000000      0.000000      0.000000      0.000000   \n",
       "25%    ...      0.000000      0.000000      0.000000      0.000000   \n",
       "50%    ...      0.000000      0.000000      0.000000      0.000000   \n",
       "75%    ...      0.000000      1.000000      0.000000      0.000000   \n",
       "max    ...      1.000000      1.000000      1.000000      1.000000   \n",
       "\n",
       "                 66            67            68            69            70  \\\n",
       "count  86387.000000  86387.000000  86387.000000  86387.000000  86387.000000   \n",
       "mean       0.427831      0.090592      0.098533      0.099760      0.093602   \n",
       "std        0.494767      0.287030      0.298036      0.299682      0.291276   \n",
       "min        0.000000      0.000000      0.000000      0.000000      0.000000   \n",
       "25%        0.000000      0.000000      0.000000      0.000000      0.000000   \n",
       "50%        0.000000      0.000000      0.000000      0.000000      0.000000   \n",
       "75%        1.000000      0.000000      0.000000      0.000000      0.000000   \n",
       "max        1.000000      1.000000      1.000000      1.000000      1.000000   \n",
       "\n",
       "                 71  \n",
       "count  86387.000000  \n",
       "mean       0.094158  \n",
       "std        0.292050  \n",
       "min        0.000000  \n",
       "25%        0.000000  \n",
       "50%        0.000000  \n",
       "75%        0.000000  \n",
       "max        1.000000  \n",
       "\n",
       "[8 rows x 72 columns]"
      ]
     },
     "execution_count": 36,
     "metadata": {},
     "output_type": "execute_result"
    }
   ],
   "source": [
    "x_iter_df.describe()"
   ]
  },
  {
   "cell_type": "code",
   "execution_count": 37,
   "id": "ef70bbfc",
   "metadata": {},
   "outputs": [],
   "source": [
    "x_iter_df['y'] = y.values"
   ]
  },
  {
   "cell_type": "code",
   "execution_count": 38,
   "id": "859ba07c",
   "metadata": {},
   "outputs": [],
   "source": [
    "for i in x_iter_df.columns:\n",
    "    if i == 'y':\n",
    "        continue\n",
    "    q_low = x_iter_df[i].quantile(0.01)\n",
    "    q_high = x_iter_df[i].quantile(0.99)\n",
    "    x_iter_df = x_iter_df.loc[(x_iter_df[i] <= q_high) & (x_iter_df[i] >= q_low)]"
   ]
  },
  {
   "cell_type": "code",
   "execution_count": 39,
   "id": "f977dab0",
   "metadata": {},
   "outputs": [
    {
     "data": {
      "text/plain": [
       "(74632, 73)"
      ]
     },
     "execution_count": 39,
     "metadata": {},
     "output_type": "execute_result"
    }
   ],
   "source": [
    "x_iter_df.shape"
   ]
  },
  {
   "cell_type": "markdown",
   "id": "61dc70db",
   "metadata": {},
   "source": [
    "### Here above, For each feature, I only dropped very extreme values that not belong to the central 99%. It is also feasible to use q1, q3, and 1.5 IQR to detect outliers but I don't want that much data lose."
   ]
  },
  {
   "cell_type": "markdown",
   "id": "02410ee2",
   "metadata": {},
   "source": [
    "# I've already started model building. Since purpose for this week is data cleaning, I'll show the rest of the code in the following weeks. Cheers!"
   ]
  }
 ],
 "metadata": {
  "kernelspec": {
   "display_name": "Python 3 (ipykernel)",
   "language": "python",
   "name": "python3"
  },
  "language_info": {
   "codemirror_mode": {
    "name": "ipython",
    "version": 3
   },
   "file_extension": ".py",
   "mimetype": "text/x-python",
   "name": "python",
   "nbconvert_exporter": "python",
   "pygments_lexer": "ipython3",
   "version": "3.9.12"
  }
 },
 "nbformat": 4,
 "nbformat_minor": 5
}
